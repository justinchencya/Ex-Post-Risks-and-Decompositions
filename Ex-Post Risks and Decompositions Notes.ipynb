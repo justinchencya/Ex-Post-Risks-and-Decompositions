{
 "cells": [
  {
   "cell_type": "markdown",
   "metadata": {},
   "source": [
    "# Notations\n",
    "\n",
    "- $m$: model (i.e. portfolio)\n",
    "- $b$: benchmark\n",
    "- $R$: returns\n",
    "    - $R_{b}$: benchmark returns\n",
    "    - $R_{a, m}$: $\\text{asset class}_{a}$ returns in model\n",
    "    - $R_{i, m}$: $\\text{fund}_{i}$ returns in model\n",
    "- $W$: asset class weights (i.e. asset allocation)\n",
    "    - $W_{a, b}$: $\\text{asset class}_{a}$ weight in benchmark\n",
    "    - $W_{i, m}$: $\\text{fund}_{I}$ weight in model\n",
    "    - $W_{ia, m}$: $\\text{fund}_{I}$ weight with respect to $\\text{asset class}_{a}$ in model, given $\\text{fund}_{i} \\in \\text{asset class}_{a}$\n",
    "- $CMetric_{x, y}$: contribution to $y$-level metric by $x$, given $x \\in y$\n",
    "    - $CAbsRisk_{a, m}$: contribution to model absolute risk by $\\text{asset class}_{a}$\n",
    "    - $CAATE_{a, m}$: contribution to model asset allocation tracking error by $\\text{asset class}_{a}$\n",
    "    - $CTE_{i, a}$: contribution to $\\text{asset class}_{a}$ tracking error by $\\text{fund}_{i}$\n",
    "    - $C(CTE_{a, m})_{i}$: contribution to (contribution to model tracking error by $\\text{asset class}_{a}$) by $\\text{fund}_{i}$ \n",
    "- $AAP$: asset allocation portfolio (model asset class weights with benchmark asset class returns)\n",
    "- $SP$: selection portfolio (benchmark asset class weights with model asset class returns)"
   ]
  },
  {
   "cell_type": "markdown",
   "metadata": {},
   "source": [
    "# Portfolio Level\n",
    "\n",
    "## Absolute Risk\n",
    "- $AbsRisk_{m} = \\sigma(R_{m})$\n",
    "\n",
    "## Tracking Error\n",
    "- $TE_{m} = \\sigma(R_{m} - R_{b})$\n",
    "- $AATE_{m} = \\sigma(R_{AAP} - R_{b})$\n",
    "- $STE_{m} = \\sigma(R_{SP} - R_{b})$\n",
    "- $IntTE_{m} = TE_{m} - (AATE_{m} + STE_{m})$"
   ]
  },
  {
   "cell_type": "markdown",
   "metadata": {},
   "source": [
    "# Asset Class Level\n",
    "\n",
    "## Absolute Risk\n",
    "- $AbsRisk_{a, m} = \\sigma(R_{a, m})$\n",
    "- $CAbsRisk_{a, m} = cov(W_{a, m}R_{a, m}, R_{m}) / AbsRisk_{m}$\n",
    "\n",
    "## Tracking Error\n",
    "- $TE_{a, m} = \\sigma(R_{a, m} - R_{a, b})$\n",
    "- $CTE_{a, m} = cov(W_{a, m}R_{a, m} - W_{a, b}R_{a, b}, R_{m} - R_{b}) / TE_{m}$\n",
    "- $CAATE_{a, m} = cov(W_{a, active}R_{a, b}, R_{AAP} - R_{b}) / AATE_{m}$\n",
    "- $CSTE_{a, m} = cov(W_{a, b}R_{a, active}, R_{SP} - R_{b}) / STE_{m}$\n",
    "- $CIntTE_{a, m} = CTE_{a, m} - (CAATE_{a, m} + CSTE_{a, m})$"
   ]
  },
  {
   "cell_type": "markdown",
   "metadata": {},
   "source": [
    "# Fund Level\n",
    "\n",
    "## Absolute Risk\n",
    "- $AbsRisk_{i, m} = \\sigma(R_{i, m})$\n",
    "- $CAbsRisk_{i, m} = cov(W_{i, m}R_{i, m}, R_{m}) / AbsRisk_{m}$\n",
    "    - $\\sum_{i \\in a} CAbsRisk_{i, m} = CAbsRisk_{a, m}$\n",
    "- $CAbsRisk_{i, a} = cov(W_{ia, m}R_{i, m}, R_{a, m}) / AbsRisk_{a, m}$\n",
    "\n",
    "## Tracking Error\n",
    "- $CTE_{i, m} = cov(W_{i, m}R_{i, m} - W_{i, b}R_{i, b}, R_{m} - R_{b}) / TE_{m}$\n",
    "    - $\\sum_{i \\in a} CTE_{i, m} \\neq CTE_{a, m}$\n",
    "- $CTE_{i, a} = cov(W_{ia, m}R_{i, m} - W_{ia, b}R_{i, b}, R_{a, m} - R_{a, b}) / TE_{a, m}$\n",
    "- $C(CTE_{a, m})_{i} = cov(W_{i, m}R_{a, m} - W_{i, b}R_{a, b}, R_{m} - R_{b}) / TE_{m}$"
   ]
  }
 ],
 "metadata": {
  "kernelspec": {
   "display_name": "Python 3",
   "language": "python",
   "name": "python3"
  },
  "language_info": {
   "codemirror_mode": {
    "name": "ipython",
    "version": 3
   },
   "file_extension": ".py",
   "mimetype": "text/x-python",
   "name": "python",
   "nbconvert_exporter": "python",
   "pygments_lexer": "ipython3",
   "version": "3.8.5"
  },
  "toc": {
   "base_numbering": 1,
   "nav_menu": {},
   "number_sections": true,
   "sideBar": true,
   "skip_h1_title": false,
   "title_cell": "Table of Contents",
   "title_sidebar": "Contents",
   "toc_cell": false,
   "toc_position": {},
   "toc_section_display": true,
   "toc_window_display": true
  },
  "varInspector": {
   "cols": {
    "lenName": 16,
    "lenType": 16,
    "lenVar": 40
   },
   "kernels_config": {
    "python": {
     "delete_cmd_postfix": "",
     "delete_cmd_prefix": "del ",
     "library": "var_list.py",
     "varRefreshCmd": "print(var_dic_list())"
    },
    "r": {
     "delete_cmd_postfix": ") ",
     "delete_cmd_prefix": "rm(",
     "library": "var_list.r",
     "varRefreshCmd": "cat(var_dic_list()) "
    }
   },
   "types_to_exclude": [
    "module",
    "function",
    "builtin_function_or_method",
    "instance",
    "_Feature"
   ],
   "window_display": false
  }
 },
 "nbformat": 4,
 "nbformat_minor": 4
}
